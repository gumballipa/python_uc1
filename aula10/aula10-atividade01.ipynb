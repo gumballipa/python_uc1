{
 "cells": [
  {
   "cell_type": "code",
   "execution_count": 72,
   "id": "04221d8f",
   "metadata": {},
   "outputs": [],
   "source": [
    "import random\n",
    "matriz_2 = []\n",
    "for i in range(3): # for de fora = linha\n",
    "    linha2=[]\n",
    "\n",
    "    for j in range (3): # for de dentro = coluna\n",
    "        #linha.append(i)\n",
    "        #linha.append(j)\n",
    "        #linha.append(rrandom.randint(0.100))\n",
    "        valor=random.randint(0,100)\n",
    "        linha2.append(valor)\n",
    "\n",
    "    matriz_2.append(linha2)"
   ]
  },
  {
   "cell_type": "code",
   "execution_count": 62,
   "id": "3d8357fb",
   "metadata": {},
   "outputs": [
    {
     "name": "stdout",
     "output_type": "stream",
     "text": [
      "52 88 78 \n",
      "66 40 65 \n",
      "94 92 16 \n"
     ]
    }
   ],
   "source": [
    "for linha in matriz_2 :\n",
    "    for valor in linha:\n",
    "        print(f\"{valor:02}\", end=' ')\n",
    "    print(f\"\")"
   ]
  },
  {
   "cell_type": "markdown",
   "id": "621ea8eb",
   "metadata": {},
   "source": [
    "### Exemplo de uso de for \n",
    "- Neste exemplo usamos o for como usariamos em outros tipos de linguagens!!"
   ]
  },
  {
   "cell_type": "code",
   "execution_count": 63,
   "id": "968f44ad",
   "metadata": {},
   "outputs": [
    {
     "name": "stdout",
     "output_type": "stream",
     "text": [
      "Elemento (0,0) >>> 52\n",
      "Elemento (0,1) >>> 88\n",
      "Elemento (0,2) >>> 78\n",
      "Elemento (1,0) >>> 66\n",
      "Elemento (1,1) >>> 40\n",
      "Elemento (1,2) >>> 65\n",
      "Elemento (2,0) >>> 94\n",
      "Elemento (2,1) >>> 92\n",
      "Elemento (2,2) >>> 16\n"
     ]
    }
   ],
   "source": [
    "for i in range(3):\n",
    "    for j in range(3):\n",
    "        print(f\"Elemento ({i},{j}) >>> {matriz_2[i][j]}\")"
   ]
  },
  {
   "cell_type": "code",
   "execution_count": 67,
   "id": "d61b9c30",
   "metadata": {},
   "outputs": [],
   "source": [
    "matriz=[]\n",
    "for i in range (4):\n",
    "    linha=[]\n",
    "    for j in range (4):\n",
    "        valor=float(input(\"Digite um valor entre 0 e 99: \"))\n",
    "        linha.append(valor)\n",
    "    matriz.append(linha)"
   ]
  },
  {
   "cell_type": "code",
   "execution_count": null,
   "id": "03fab3a1",
   "metadata": {},
   "outputs": [
    {
     "name": "stdout",
     "output_type": "stream",
     "text": [
      "[[10.0, 20.0, 40.0, 67.0], [78.0, 99.0, 45.0, 66.0], [24.0, 354.0, 53.0, 6.0], [564.0, 57.0, 546.0, 34.0]]\n"
     ]
    }
   ],
   "source": [
    "print(f\"{matriz}\")"
   ]
  },
  {
   "cell_type": "code",
   "execution_count": 71,
   "id": "0b48d069",
   "metadata": {},
   "outputs": [
    {
     "name": "stdout",
     "output_type": "stream",
     "text": [
      "Maior valor da linha: [10.0, 90.0, 90.0, 90.0] \n",
      "\n",
      "\t >> 10.0 <<\n",
      "Maior valor da linha: [10.0, 90.0, 90.0, 90.0] \n",
      "\n",
      "\t >> 90.0 <<\n",
      "Maior valor da linha: [90.0, 90.0, 90.0, 9.0] \n",
      "\n",
      "\t >> 90.0 <<\n",
      "Maior valor da linha: [90.0, 90.0, 45.0, 54.0] \n",
      "\n",
      "\t >> 90.0 <<\n",
      "Maior valor da linha: [54.0, 54.0, 54.0, 54.0] \n",
      "\n",
      "\t >> 54.0 <<\n"
     ]
    }
   ],
   "source": [
    "for linha in matriz:\n",
    "    maior=0\n",
    "    for valor in linha:\n",
    "        if valor > maior:\n",
    "            maior = valor\n",
    "            print(f\"Maior valor da linha: {linha} \\n\\n\\t >> {maior} <<\")"
   ]
  }
 ],
 "metadata": {
  "kernelspec": {
   "display_name": "Python 3",
   "language": "python",
   "name": "python3"
  },
  "language_info": {
   "codemirror_mode": {
    "name": "ipython",
    "version": 3
   },
   "file_extension": ".py",
   "mimetype": "text/x-python",
   "name": "python",
   "nbconvert_exporter": "python",
   "pygments_lexer": "ipython3",
   "version": "3.10.5"
  }
 },
 "nbformat": 4,
 "nbformat_minor": 5
}
