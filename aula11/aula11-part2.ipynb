{
 "cells": [
  {
   "cell_type": "markdown",
   "id": "2f4c369c",
   "metadata": {},
   "source": [
    "### Atividade do professor- (codificando o codigo)!!\n",
    "- abaixo:"
   ]
  },
  {
   "cell_type": "markdown",
   "id": "ff489736",
   "metadata": {},
   "source": [
    "### DECLARANDO A CLASS"
   ]
  },
  {
   "cell_type": "code",
   "execution_count": 65,
   "id": "c202574c",
   "metadata": {},
   "outputs": [],
   "source": [
    "class Carro:\n",
    "    \n",
    "    def __init__(self, marca, modelo, ano,):\n",
    "\n",
    "        self.marca = marca      \n",
    "        self.modelo = modelo    \n",
    "        self.ano = ano\n",
    "        self.cor = \"\"\n",
    "        self._garantia = True   \n",
    "        self._ligado  = False\n",
    "\n",
    "    def ligar(self):\n",
    "        if self._ligado :\n",
    "            print (f\" já está LIGADO:  \")\n",
    "        else:\n",
    "            self._ligado=True\n",
    "            print (f\" [OK] o carro foi LIGADO!!!\")\n",
    "\n",
    "    def desligar(self):\n",
    "        if self._ligado==False:\n",
    "            print (f\" [OK] o carro foi DESLIGADO!!!\")\n",
    "        else:\n",
    "          print (f\" [ERRO] já está DESLIGADO: \")  \n",
    "\n",
    "    def exibir_info(self):\n",
    "        if self._ligado :\n",
    "            status = \"Ligado\"\n",
    "        else:\n",
    "            status = \"Desligado\"\n",
    "\n",
    "            print(f\"{self.marca} - {self.modelo} está {status}\")\n",
    "               "
   ]
  },
  {
   "cell_type": "code",
   "execution_count": 66,
   "id": "205e47ba",
   "metadata": {},
   "outputs": [],
   "source": [
    "meu_carro = Carro(\"WV\", \"Gol\", 2013,)"
   ]
  },
  {
   "cell_type": "code",
   "execution_count": 67,
   "id": "6a290796",
   "metadata": {},
   "outputs": [
    {
     "name": "stdout",
     "output_type": "stream",
     "text": [
      "WV - Gol está Desligado\n"
     ]
    }
   ],
   "source": [
    "meu_carro.exibir_info ()"
   ]
  },
  {
   "cell_type": "code",
   "execution_count": 68,
   "id": "c74ec4b1",
   "metadata": {},
   "outputs": [
    {
     "name": "stdout",
     "output_type": "stream",
     "text": [
      " [OK] o carro foi LIGADO!!!\n"
     ]
    }
   ],
   "source": [
    "meu_carro.ligar ()"
   ]
  },
  {
   "cell_type": "code",
   "execution_count": 69,
   "id": "a0cef57b",
   "metadata": {},
   "outputs": [],
   "source": [
    "meu_carro.exibir_info ()"
   ]
  },
  {
   "cell_type": "markdown",
   "id": "4ab68223",
   "metadata": {},
   "source": [
    "### Desafio 1 - 28/08"
   ]
  },
  {
   "cell_type": "code",
   "execution_count": 219,
   "id": "d5477aee",
   "metadata": {},
   "outputs": [
    {
     "name": "stdout",
     "output_type": "stream",
     "text": [
      "meu_carro: Honda - Civic - ABC-1234 - Preto está Desligado -  reboque está Ligado -  seguro está Ligado\n",
      "meu_carro2: Toyota - Corolla - XYZ-5678 - Branco está Desligado -  reboque está Ligado -  seguro está Ligado\n",
      "meu_carro3: Chevrolet - Onix - DEF-9101 - Vermelho está Desligado -  reboque está Ligado -  seguro está Ligado\n"
     ]
    }
   ],
   "source": [
    "class Carro:\n",
    "    \n",
    "    def __init__(self, marca, modelo, ano, cor, placa):\n",
    "\n",
    "        self.marca = marca \n",
    "        self.modelo = modelo    \n",
    "        self.ano = ano\n",
    "        self.cor = cor\n",
    "        self.placa = placa\n",
    "        self._garantia = True  \n",
    "        self._seguro = True \n",
    "        self._ligado  = False\n",
    "        self._reboque = True\n",
    "\n",
    "    def ligar(self):\n",
    "        if self._ligado :\n",
    "            print (f\" já está LIGADO:  \")\n",
    "        else:\n",
    "            self._ligado=True\n",
    "            print (f\" [OK] o carro foi LIGADO!!!\")\n",
    "\n",
    "    def desligar(self):\n",
    "        if self._ligado==False:\n",
    "            print (f\" [OK] o carro foi DESLIGADO!!!\")\n",
    "        else:\n",
    "          print (f\" [ERRO] já está DESLIGADO: \")  \n",
    "\n",
    "    def exibir_info(self):\n",
    "        if self._ligado :\n",
    "            status = \"Ligado\"\n",
    "        else:\n",
    "            status = \"Desligado\"\n",
    "\n",
    "        if self._seguro :\n",
    "            seguro = \" seguro está Ligado\"\n",
    "        else:\n",
    "            seguro = \"Seguro está Desligado\"\n",
    "\n",
    "            \n",
    "        if self._reboque :\n",
    "            reboque = \" reboque está Ligado\"\n",
    "        else:\n",
    "            reboque = \"reboque está Desligado\"\n",
    "\n",
    "        print(f\"{self.marca} - {self.modelo} - {self.placa} - {self.cor} está {status} - {reboque} - {seguro}\")\n",
    "        \n",
    "\n",
    "         \n",
    "    def info_cor(self):\n",
    "        if self.cor:\n",
    "            print(f\" A cor do carro é {self.cor}.\")\n",
    "\n",
    "    def info_placa(self):\n",
    "       if self.placa:\n",
    "            print(f\" A placa do carro é {self.placa}.\")\n",
    "\n",
    "    def seguro_contratar(self):\n",
    "        if self._seguro:\n",
    "            print(\"[OK] Seguro contratado com sucesso.\")\n",
    "        else:\n",
    "            self._seguro = True\n",
    "            print(\"[ERRO] O carro já possui seguro ativo.\")\n",
    "\n",
    "    def seguro_cancelar(self):\n",
    "        if self._seguro:\n",
    "            print(\"[OK] O carro já possui seguro ativo.\")\n",
    "        else:\n",
    "            self._seguro = True\n",
    "            print(\"[ERRO] O seguro do carro ja foi cancelado\")\n",
    "    \n",
    "    def reboque_instal(self):\n",
    "        if self._reboque:\n",
    "            print(\"[OK] reboque instalado com sucesso.\")\n",
    "        else:\n",
    "            self._reboque = True\n",
    "            print(\"[ERRO] O carro já possui reboque instalado.\")\n",
    "\n",
    "    def reboque_desinstal(self):\n",
    "        if self._reboque:\n",
    "            print(\"[ERRO] O carro já possui reboque instalado.\")\n",
    "        else:\n",
    "            self._reboque = True\n",
    "            print(\"[OK] reboque instalado com sucesso.\")\n",
    "\n",
    "meu_carro = Carro(\"Toyota\", \"Corolla\", 2024, \"vermelho\", \"XVD-9897\")\n",
    "meu_carro2 = Carro(\"Toyota\", \"Corolla\", 2021, \"Branco\", \"XYZ-5678\")\n",
    "meu_carro3 = Carro(\"Chevrolet\", \"Onix\", 2019, \"Vermelho\", \"DEF-9101\")\n",
    "\n",
    "print(\"meu_carro:\", end=\" \")\n",
    "carro1.exibir_info()\n",
    "\n",
    "print(\"meu_carro2:\", end=\" \")\n",
    "carro2.exibir_info()\n",
    "\n",
    "print(\"meu_carro3:\", end=\" \")\n",
    "carro3.exibir_info()"
   ]
  },
  {
   "cell_type": "code",
   "execution_count": 196,
   "id": "0af06206",
   "metadata": {},
   "outputs": [],
   "source": [
    "meu_carro = Carro(\"Toyota\", \"Corolla\", 2024, \"vermelho\", \"XVD-9897\")"
   ]
  },
  {
   "cell_type": "code",
   "execution_count": 197,
   "id": "1dbf2360",
   "metadata": {},
   "outputs": [
    {
     "name": "stdout",
     "output_type": "stream",
     "text": [
      "Toyota - Corolla - XVD-9897 - vermelho está Desligado -  reboque está Ligado -  seguro está Ligado\n"
     ]
    }
   ],
   "source": [
    "meu_carro.exibir_info ()"
   ]
  },
  {
   "cell_type": "code",
   "execution_count": 185,
   "id": "320e113e",
   "metadata": {},
   "outputs": [
    {
     "name": "stdout",
     "output_type": "stream",
     "text": [
      " [OK] o carro foi LIGADO!!!\n"
     ]
    }
   ],
   "source": [
    "meu_carro.ligar ()"
   ]
  },
  {
   "cell_type": "code",
   "execution_count": 186,
   "id": "b16980ce",
   "metadata": {},
   "outputs": [
    {
     "name": "stdout",
     "output_type": "stream",
     "text": [
      " A cor do carro é vermelho.\n"
     ]
    }
   ],
   "source": [
    "meu_carro.info_cor ()"
   ]
  },
  {
   "cell_type": "code",
   "execution_count": 187,
   "id": "97b74680",
   "metadata": {},
   "outputs": [
    {
     "name": "stdout",
     "output_type": "stream",
     "text": [
      " A placa do carro é XVD-9897.\n"
     ]
    }
   ],
   "source": [
    "meu_carro.info_placa ()"
   ]
  },
  {
   "cell_type": "code",
   "execution_count": 188,
   "id": "326b963b",
   "metadata": {},
   "outputs": [
    {
     "name": "stdout",
     "output_type": "stream",
     "text": [
      "[OK] Seguro contratado com sucesso.\n"
     ]
    }
   ],
   "source": [
    "meu_carro.seguro_contratar ()"
   ]
  },
  {
   "cell_type": "code",
   "execution_count": 189,
   "id": "4fd07f9e",
   "metadata": {},
   "outputs": [
    {
     "name": "stdout",
     "output_type": "stream",
     "text": [
      "[OK] reboque instalado com sucesso.\n"
     ]
    }
   ],
   "source": [
    "meu_carro.reboque_instal ()"
   ]
  },
  {
   "cell_type": "code",
   "execution_count": 190,
   "id": "9d76c2a8",
   "metadata": {},
   "outputs": [
    {
     "name": "stdout",
     "output_type": "stream",
     "text": [
      "[OK] O carro já possui seguro ativo.\n"
     ]
    }
   ],
   "source": [
    "meu_carro.seguro_cancelar ()"
   ]
  },
  {
   "cell_type": "code",
   "execution_count": 191,
   "id": "d5ad3695",
   "metadata": {},
   "outputs": [
    {
     "name": "stdout",
     "output_type": "stream",
     "text": [
      "[ERRO] O carro já possui reboque instalado.\n"
     ]
    }
   ],
   "source": [
    "meu_carro.reboque_desinstal ()"
   ]
  },
  {
   "cell_type": "code",
   "execution_count": 204,
   "id": "6acd6c46",
   "metadata": {},
   "outputs": [],
   "source": [
    "coleção = {}\n",
    "\n",
    "# Adicionar Veiculos\n",
    "coleção[1] = {'placa': 'XVD-9897'}\n",
    "coleção[2] = {\"placa\": 'PRC-9394'}\n",
    "coleção[3] = {\"placa\": 'PSY-9192'}"
   ]
  },
  {
   "cell_type": "code",
   "execution_count": 203,
   "id": "82857c88",
   "metadata": {},
   "outputs": [
    {
     "name": "stdout",
     "output_type": "stream",
     "text": [
      "{'placa': 'PRC-9394'}\n"
     ]
    }
   ],
   "source": [
    "print(f\"{coleção[2]}\")"
   ]
  }
 ],
 "metadata": {
  "kernelspec": {
   "display_name": "Python 3",
   "language": "python",
   "name": "python3"
  },
  "language_info": {
   "codemirror_mode": {
    "name": "ipython",
    "version": 3
   },
   "file_extension": ".py",
   "mimetype": "text/x-python",
   "name": "python",
   "nbconvert_exporter": "python",
   "pygments_lexer": "ipython3",
   "version": "3.10.5"
  }
 },
 "nbformat": 4,
 "nbformat_minor": 5
}
