{
 "cells": [
  {
   "cell_type": "code",
   "execution_count": 5,
   "id": "5ea516d0",
   "metadata": {},
   "outputs": [
    {
     "name": "stdout",
     "output_type": "stream",
     "text": [
      "{'nome': 'Ana', 'idade': 30, 'cidade': 'São Paulo', 'email': 'ana@email.com', 'tel': '24 988178239'}\n"
     ]
    }
   ],
   "source": [
    "# Criar dicionário\n",
    "pessoa = {\n",
    "    \"nome\": \"Ana\", \n",
    "    \"idade\": 30, \n",
    "    \"cidade\": \"São Paulo\",\n",
    "    \"email\" : \"ana@email.com\",\n",
    "}\n",
    "\n",
    "pessoa[\"tel\"] = \"24 988178239\"\n",
    "\n",
    "print(pessoa)"
   ]
  },
  {
   "cell_type": "code",
   "execution_count": 36,
   "id": "b05e4929",
   "metadata": {},
   "outputs": [
    {
     "name": "stdout",
     "output_type": "stream",
     "text": [
      "Olá, me diga alguns dados seus abaixo por favor\n",
      "Olá, me diga alguns dados seus abaixo por favor\n"
     ]
    }
   ],
   "source": [
    "lista_pessoas=[]\n",
    "\n",
    "for i in range(2):\n",
    "    pessoa={}\n",
    "\n",
    "    print(\"Olá, me diga alguns dados seus abaixo por favor\")\n",
    "\n",
    "pessoa[\"nome\"]=input(\"Digite seu nome: \")\n",
    "pessoa[\"idade\"]=int(input(\"Digite sua idade: \"))\n",
    "pessoa[\"cidade\"]=input(\"Digite sua cidade:\")\n",
    "pessoa[\"email\"]=input(\"Digite seu email\")\n",
    "\n",
    "lista_pessoas.append(pessoa)\n"
   ]
  },
  {
   "cell_type": "code",
   "execution_count": 37,
   "id": "7229c190",
   "metadata": {},
   "outputs": [
    {
     "name": "stdout",
     "output_type": "stream",
     "text": [
      "ana\n"
     ]
    }
   ],
   "source": [
    "print(lista_pessoas[0][\"nome\"])"
   ]
  },
  {
   "cell_type": "code",
   "execution_count": 38,
   "id": "5e023e49",
   "metadata": {},
   "outputs": [],
   "source": [
    "lista_pessoas[0][\"cel\"]=\"024 988178239\""
   ]
  },
  {
   "cell_type": "code",
   "execution_count": 45,
   "id": "612a33b2",
   "metadata": {},
   "outputs": [
    {
     "name": "stdout",
     "output_type": "stream",
     "text": [
      "{'nome': 'ana', 'idade': 22, 'cidade': 'rio', 'email': 'ana@gmail.com', 'cel': '024 988178239'}\n"
     ]
    },
    {
     "ename": "IndexError",
     "evalue": "list index out of range",
     "output_type": "error",
     "traceback": [
      "\u001b[1;31m---------------------------------------------------------------------------\u001b[0m",
      "\u001b[1;31mIndexError\u001b[0m                                Traceback (most recent call last)",
      "Cell \u001b[1;32mIn[45], line 2\u001b[0m\n\u001b[0;32m      1\u001b[0m \u001b[38;5;28mprint\u001b[39m(lista_pessoas[\u001b[38;5;241m0\u001b[39m])\n\u001b[1;32m----> 2\u001b[0m \u001b[38;5;28mprint\u001b[39m(\u001b[43mlista_pessoas\u001b[49m\u001b[43m[\u001b[49m\u001b[38;5;241;43m1\u001b[39;49m\u001b[43m]\u001b[49m)\n",
      "\u001b[1;31mIndexError\u001b[0m: list index out of range"
     ]
    }
   ],
   "source": [
    "print(lista_pessoas[0])\n",
    "print(lista_pessoas[1])"
   ]
  },
  {
   "cell_type": "code",
   "execution_count": 53,
   "id": "7eee0e64",
   "metadata": {},
   "outputs": [
    {
     "name": "stdout",
     "output_type": "stream",
     "text": [
      "{1: {'nome': 'Maria', 'notas': [7.5, 8.0, 9.2], 'média': 8.23}, 2: {'nome': 'João', 'notas': [6.0, 7.8, 8.5], 'média': 7.43}, 3: {'nome': 'Carlos', 'notas': [5.5, 6.5, 7.0], 'média': 6.33}}\n"
     ]
    }
   ],
   "source": [
    "alunos = {}\n",
    "\n",
    "# Adicionar alunos\n",
    "alunos[1] = {\"nome\": \"Maria\", \"notas\": [7.5, 8.0, 9.2]}\n",
    "alunos[2] = {\"nome\": \"João\", \"notas\": [6.0, 7.8, 8.5]}\n",
    "alunos[3] = {\"nome\": \"Carlos\", \"notas\": [5.5, 6.5, 7.0]}\n",
    "\n",
    "# Calcular médias\n",
    "for id_aluno, info in alunos.items():\n",
    "    notas = info[\"notas\"]\n",
    "    media = sum(notas) / len(notas)\n",
    "    info[\"média\"] = round(media, 2)\n",
    "\n",
    "print(alunos)"
   ]
  },
  {
   "cell_type": "code",
   "execution_count": 57,
   "id": "a5e2f115",
   "metadata": {},
   "outputs": [],
   "source": [
    "alunos = {}\n",
    "\n",
    "alunos[1]={\"nome\":\"zezinho\", \"notas\":[] }\n",
    "alunos[2]={\"nome\":\"paulinho\", \"notas\":[] }\n",
    "alunos[3]={\"nome\":\"carlinhos\", \"notas\":[] }"
   ]
  },
  {
   "cell_type": "code",
   "execution_count": 58,
   "id": "4900279c",
   "metadata": {},
   "outputs": [
    {
     "name": "stdout",
     "output_type": "stream",
     "text": [
      "{1: {'nome': 'zezinho', 'notas': []}, 2: {'nome': 'paulinho', 'notas': []}, 3: {'nome': 'carlinhos', 'notas': []}}\n"
     ]
    }
   ],
   "source": [
    "print(alunos)"
   ]
  },
  {
   "cell_type": "code",
   "execution_count": 60,
   "id": "c399f1fb",
   "metadata": {},
   "outputs": [],
   "source": [
    "alunos[1] [\"notas\"].append(2.3)\n",
    "alunos[2] [\"notas\"].append(8.1)\n",
    "alunos[3] [\"notas\"].append(6.4)\n",
    "\n",
    "alunos[1] [\"notas\"].append(5.2)\n",
    "alunos[2] [\"notas\"].append(7.5)\n",
    "alunos[3] [\"notas\"].append(9.4)\n",
    "\n",
    "alunos[1] [\"notas\"].append(10.0)\n",
    "alunos[2] [\"notas\"].append(6.1)\n",
    "alunos[3] [\"notas\"].append(5.7)"
   ]
  },
  {
   "cell_type": "code",
   "execution_count": 61,
   "id": "412b4862",
   "metadata": {},
   "outputs": [
    {
     "name": "stdout",
     "output_type": "stream",
     "text": [
      "{'nome': 'zezinho', 'notas': [2.3, 5.2, 10.0, 2.3, 5.2, 10.0]}\n"
     ]
    }
   ],
   "source": [
    "print(alunos[1])"
   ]
  },
  {
   "cell_type": "code",
   "execution_count": 65,
   "id": "8af9b4eb",
   "metadata": {},
   "outputs": [
    {
     "name": "stdout",
     "output_type": "stream",
     "text": [
      "Matricula do aluno ....: 1\n",
      "Nome do aluno..........: {'nome': 'zezinho', 'notas': [2.3, 5.2, 10.0, 2.3, 5.2, 10.0], 'media': 5.833333333333333, 'status': 'Reprovado'}\n",
      "Notas do aluno.........: [2.3, 5.2, 10.0, 2.3, 5.2, 10.0]\n",
      "Notas do aluno ........:\n",
      "\t\t Nota... 2.3\n",
      "\t\t Nota... 5.2\n",
      "\t\t Nota... 10.0\n",
      "\t\t Nota... 2.3\n",
      "\t\t Nota... 5.2\n",
      "\t\t Nota... 10.0\n",
      "\t\tMedia.. 5.833333333333333\n",
      "\t\tMedia.. 5.833333333333333\n",
      "\t\tStatus : Reprovado\n"
     ]
    }
   ],
   "source": [
    "for matricula, dados_aluno in alunos.items():\n",
    "    print(f\"Matricula do aluno ....: {matricula}\")\n",
    "    print(f\"Nome do aluno..........: {dados_aluno}\")\n",
    "    print(f\"Notas do aluno.........: {dados_aluno['notas']}\")\n",
    "    print(\"Notas do aluno ........:\")\n",
    "    for nota in dados_aluno[\"notas\"]:\n",
    "        print(f\"\\t\\t Nota... {nota}\")\n",
    "    media = sum(dados_aluno[\"notas\"]) / len(dados_aluno[\"notas\"])\n",
    "    print(f\"\\t\\tMedia.. {media}\")\n",
    "\n",
    "    dados_aluno[\"media\"] = media\n",
    "    print(f\"\\t\\tMedia.. {dados_aluno['media']}\")\n",
    "\n",
    "    if media >= 6:\n",
    "        dados_aluno[\"status\"] = \"Aprovado\"\n",
    "    else:\n",
    "        dados_aluno[\"status\"] = \"Reprovado\"\n",
    "    \n",
    "    print(f\"\\t\\tStatus : {dados_aluno['status']}\")\n",
    "    break"
   ]
  }
 ],
 "metadata": {
  "kernelspec": {
   "display_name": "Python 3",
   "language": "python",
   "name": "python3"
  },
  "language_info": {
   "codemirror_mode": {
    "name": "ipython",
    "version": 3
   },
   "file_extension": ".py",
   "mimetype": "text/x-python",
   "name": "python",
   "nbconvert_exporter": "python",
   "pygments_lexer": "ipython3",
   "version": "3.10.5"
  }
 },
 "nbformat": 4,
 "nbformat_minor": 5
}
